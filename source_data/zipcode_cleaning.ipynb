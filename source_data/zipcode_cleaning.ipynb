{
 "cells": [
  {
   "cell_type": "markdown",
   "metadata": {},
   "source": [
    "# US Zip Code Data"
   ]
  },
  {
   "cell_type": "code",
   "execution_count": 2,
   "metadata": {},
   "outputs": [],
   "source": [
    "import pandas as pd\n",
    "\n",
    "# Load the US zipcode data\n",
    "zipcode = pd.read_csv('./zip_code_database.csv', dtype={'zip': str})"
   ]
  },
  {
   "cell_type": "code",
   "execution_count": 3,
   "metadata": {},
   "outputs": [
    {
     "data": {
      "text/plain": [
       "Index(['zip', 'type', 'primary_city', 'acceptable_cities',\n",
       "       'unacceptable_cities', 'state', 'county', 'timezone', 'area_codes',\n",
       "       'latitude', 'longitude', 'world_region', 'country', 'decommissioned',\n",
       "       'estimated_population', 'notes'],\n",
       "      dtype='object')"
      ]
     },
     "execution_count": 3,
     "metadata": {},
     "output_type": "execute_result"
    }
   ],
   "source": [
    "zipcode.columns"
   ]
  },
  {
   "cell_type": "code",
   "execution_count": 4,
   "metadata": {},
   "outputs": [
    {
     "name": "stderr",
     "output_type": "stream",
     "text": [
      "/var/folders/jv/0s5w320d3gvbhrh7g7cc__r80000gn/T/ipykernel_49855/3063082377.py:3: SettingWithCopyWarning: \n",
      "A value is trying to be set on a copy of a slice from a DataFrame.\n",
      "Try using .loc[row_indexer,col_indexer] = value instead\n",
      "\n",
      "See the caveats in the documentation: https://pandas.pydata.org/pandas-docs/stable/user_guide/indexing.html#returning-a-view-versus-a-copy\n",
      "  cleaned_zipcode[\"city_state\"] = cleaned_zipcode[\"primary_city\"] + \", \" + cleaned_zipcode[\"state\"]\n"
     ]
    },
    {
     "data": {
      "text/html": [
       "<div>\n",
       "<style scoped>\n",
       "    .dataframe tbody tr th:only-of-type {\n",
       "        vertical-align: middle;\n",
       "    }\n",
       "\n",
       "    .dataframe tbody tr th {\n",
       "        vertical-align: top;\n",
       "    }\n",
       "\n",
       "    .dataframe thead th {\n",
       "        text-align: right;\n",
       "    }\n",
       "</style>\n",
       "<table border=\"1\" class=\"dataframe\">\n",
       "  <thead>\n",
       "    <tr style=\"text-align: right;\">\n",
       "      <th></th>\n",
       "      <th>zip</th>\n",
       "      <th>primary_city</th>\n",
       "      <th>state</th>\n",
       "      <th>latitude</th>\n",
       "      <th>longitude</th>\n",
       "      <th>city_state</th>\n",
       "    </tr>\n",
       "  </thead>\n",
       "  <tbody>\n",
       "    <tr>\n",
       "      <th>0</th>\n",
       "      <td>00501</td>\n",
       "      <td>Holtsville</td>\n",
       "      <td>NY</td>\n",
       "      <td>40.81</td>\n",
       "      <td>-73.04</td>\n",
       "      <td>Holtsville, NY</td>\n",
       "    </tr>\n",
       "    <tr>\n",
       "      <th>1</th>\n",
       "      <td>00544</td>\n",
       "      <td>Holtsville</td>\n",
       "      <td>NY</td>\n",
       "      <td>40.81</td>\n",
       "      <td>-73.04</td>\n",
       "      <td>Holtsville, NY</td>\n",
       "    </tr>\n",
       "    <tr>\n",
       "      <th>2</th>\n",
       "      <td>00601</td>\n",
       "      <td>Adjuntas</td>\n",
       "      <td>PR</td>\n",
       "      <td>18.16</td>\n",
       "      <td>-66.72</td>\n",
       "      <td>Adjuntas, PR</td>\n",
       "    </tr>\n",
       "    <tr>\n",
       "      <th>3</th>\n",
       "      <td>00602</td>\n",
       "      <td>Aguada</td>\n",
       "      <td>PR</td>\n",
       "      <td>18.38</td>\n",
       "      <td>-67.18</td>\n",
       "      <td>Aguada, PR</td>\n",
       "    </tr>\n",
       "    <tr>\n",
       "      <th>4</th>\n",
       "      <td>00603</td>\n",
       "      <td>Aguadilla</td>\n",
       "      <td>PR</td>\n",
       "      <td>18.43</td>\n",
       "      <td>-67.15</td>\n",
       "      <td>Aguadilla, PR</td>\n",
       "    </tr>\n",
       "  </tbody>\n",
       "</table>\n",
       "</div>"
      ],
      "text/plain": [
       "     zip primary_city state  latitude  longitude      city_state\n",
       "0  00501   Holtsville    NY     40.81     -73.04  Holtsville, NY\n",
       "1  00544   Holtsville    NY     40.81     -73.04  Holtsville, NY\n",
       "2  00601     Adjuntas    PR     18.16     -66.72    Adjuntas, PR\n",
       "3  00602       Aguada    PR     18.38     -67.18      Aguada, PR\n",
       "4  00603    Aguadilla    PR     18.43     -67.15   Aguadilla, PR"
      ]
     },
     "execution_count": 4,
     "metadata": {},
     "output_type": "execute_result"
    }
   ],
   "source": [
    "zip_cols = [\"zip\", \"primary_city\", 'state', 'latitude', 'longitude']\n",
    "cleaned_zipcode = zipcode[zip_cols]\n",
    "cleaned_zipcode[\"city_state\"] = cleaned_zipcode[\"primary_city\"] + \", \" + cleaned_zipcode[\"state\"]\n",
    "cleaned_zipcode.head()"
   ]
  },
  {
   "cell_type": "code",
   "execution_count": 7,
   "metadata": {},
   "outputs": [
    {
     "name": "stderr",
     "output_type": "stream",
     "text": [
      "/var/folders/jv/0s5w320d3gvbhrh7g7cc__r80000gn/T/ipykernel_49855/908333541.py:2: SettingWithCopyWarning: \n",
      "A value is trying to be set on a copy of a slice from a DataFrame\n",
      "\n",
      "See the caveats in the documentation: https://pandas.pydata.org/pandas-docs/stable/user_guide/indexing.html#returning-a-view-versus-a-copy\n",
      "  cleaned_zipcode.dropna(inplace=True)\n",
      "/var/folders/jv/0s5w320d3gvbhrh7g7cc__r80000gn/T/ipykernel_49855/908333541.py:4: SettingWithCopyWarning: \n",
      "A value is trying to be set on a copy of a slice from a DataFrame\n",
      "\n",
      "See the caveats in the documentation: https://pandas.pydata.org/pandas-docs/stable/user_guide/indexing.html#returning-a-view-versus-a-copy\n",
      "  cleaned_zipcode.drop_duplicates(inplace=True)\n"
     ]
    },
    {
     "data": {
      "text/plain": [
       "zip             42522\n",
       "primary_city    42522\n",
       "state           42522\n",
       "latitude        42522\n",
       "longitude       42522\n",
       "city_state      42522\n",
       "dtype: int64"
      ]
     },
     "execution_count": 7,
     "metadata": {},
     "output_type": "execute_result"
    }
   ],
   "source": [
    "# Example: Drop rows with any missing values\n",
    "cleaned_zipcode.dropna(inplace=True)\n",
    "# Remove duplicates\n",
    "cleaned_zipcode.drop_duplicates(inplace=True)\n",
    "cleaned_zipcode.count()"
   ]
  },
  {
   "cell_type": "code",
   "execution_count": 8,
   "metadata": {},
   "outputs": [],
   "source": [
    "# Save the DataFrames to new CSV files\n",
    "cleaned_zipcode.to_csv('zipcode_city.csv', index=False)"
   ]
  }
 ],
 "metadata": {
  "kernelspec": {
   "display_name": "base",
   "language": "python",
   "name": "python3"
  },
  "language_info": {
   "codemirror_mode": {
    "name": "ipython",
    "version": 3
   },
   "file_extension": ".py",
   "mimetype": "text/x-python",
   "name": "python",
   "nbconvert_exporter": "python",
   "pygments_lexer": "ipython3",
   "version": "3.10.13"
  }
 },
 "nbformat": 4,
 "nbformat_minor": 2
}
